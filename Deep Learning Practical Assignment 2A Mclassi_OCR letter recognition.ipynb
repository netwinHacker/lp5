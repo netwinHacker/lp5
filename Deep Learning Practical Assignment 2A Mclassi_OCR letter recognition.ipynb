{
 "cells": [
  {
   "cell_type": "markdown",
   "id": "2c2b7547",
   "metadata": {},
   "source": [
    "Name - Takte Yash Santosh / Roll No. - 4264 / Batch - B7"
   ]
  },
  {
   "cell_type": "markdown",
   "id": "70ed7ba6",
   "metadata": {},
   "source": [
    "Importing Dataset & Libraries"
   ]
  },
  {
   "cell_type": "code",
   "execution_count": 125,
   "id": "4d0ebc12",
   "metadata": {},
   "outputs": [],
   "source": [
    "import pandas as pd\n",
    "import numpy as np\n",
    "from sklearn.model_selection import train_test_split"
   ]
  },
  {
   "cell_type": "code",
   "execution_count": 126,
   "id": "22362473",
   "metadata": {},
   "outputs": [],
   "source": [
    "#url='https://archive.ics.uci.edu/ml/machine-learning-databases/letter-recognition/letter-recognition.data'"
   ]
  },
  {
   "cell_type": "code",
   "execution_count": 127,
   "id": "338c29fb",
   "metadata": {},
   "outputs": [],
   "source": [
    "columns = [\"lettr\", \"x-box\", \"y-box\", \"width\", \"height\", \"onpix\", \"x-bar\", \"y-bar\", \"x2bar\", \"y2bar\", \"xybar\", \"x2ybr\", \"xy2br\", \"x-ege\", \"xegvy\", \"y-ege\", \"yegvx\"]"
   ]
  },
  {
   "cell_type": "code",
   "execution_count": 128,
   "id": "cd9f200d",
   "metadata": {},
   "outputs": [],
   "source": [
    "#df = pd.read_csv(url, names=columns)\n",
    "df = pd.read_csv('D:\\DL Practical\\letter-recognition.data', names=columns)"
   ]
  },
  {
   "cell_type": "code",
   "execution_count": 129,
   "id": "abcb726a",
   "metadata": {},
   "outputs": [
    {
     "data": {
      "text/html": [
       "<div>\n",
       "<style scoped>\n",
       "    .dataframe tbody tr th:only-of-type {\n",
       "        vertical-align: middle;\n",
       "    }\n",
       "\n",
       "    .dataframe tbody tr th {\n",
       "        vertical-align: top;\n",
       "    }\n",
       "\n",
       "    .dataframe thead th {\n",
       "        text-align: right;\n",
       "    }\n",
       "</style>\n",
       "<table border=\"1\" class=\"dataframe\">\n",
       "  <thead>\n",
       "    <tr style=\"text-align: right;\">\n",
       "      <th></th>\n",
       "      <th>lettr</th>\n",
       "      <th>x-box</th>\n",
       "      <th>y-box</th>\n",
       "      <th>width</th>\n",
       "      <th>height</th>\n",
       "      <th>onpix</th>\n",
       "      <th>x-bar</th>\n",
       "      <th>y-bar</th>\n",
       "      <th>x2bar</th>\n",
       "      <th>y2bar</th>\n",
       "      <th>xybar</th>\n",
       "      <th>x2ybr</th>\n",
       "      <th>xy2br</th>\n",
       "      <th>x-ege</th>\n",
       "      <th>xegvy</th>\n",
       "      <th>y-ege</th>\n",
       "      <th>yegvx</th>\n",
       "    </tr>\n",
       "  </thead>\n",
       "  <tbody>\n",
       "    <tr>\n",
       "      <th>0</th>\n",
       "      <td>T</td>\n",
       "      <td>2</td>\n",
       "      <td>8</td>\n",
       "      <td>3</td>\n",
       "      <td>5</td>\n",
       "      <td>1</td>\n",
       "      <td>8</td>\n",
       "      <td>13</td>\n",
       "      <td>0</td>\n",
       "      <td>6</td>\n",
       "      <td>6</td>\n",
       "      <td>10</td>\n",
       "      <td>8</td>\n",
       "      <td>0</td>\n",
       "      <td>8</td>\n",
       "      <td>0</td>\n",
       "      <td>8</td>\n",
       "    </tr>\n",
       "    <tr>\n",
       "      <th>1</th>\n",
       "      <td>I</td>\n",
       "      <td>5</td>\n",
       "      <td>12</td>\n",
       "      <td>3</td>\n",
       "      <td>7</td>\n",
       "      <td>2</td>\n",
       "      <td>10</td>\n",
       "      <td>5</td>\n",
       "      <td>5</td>\n",
       "      <td>4</td>\n",
       "      <td>13</td>\n",
       "      <td>3</td>\n",
       "      <td>9</td>\n",
       "      <td>2</td>\n",
       "      <td>8</td>\n",
       "      <td>4</td>\n",
       "      <td>10</td>\n",
       "    </tr>\n",
       "    <tr>\n",
       "      <th>2</th>\n",
       "      <td>D</td>\n",
       "      <td>4</td>\n",
       "      <td>11</td>\n",
       "      <td>6</td>\n",
       "      <td>8</td>\n",
       "      <td>6</td>\n",
       "      <td>10</td>\n",
       "      <td>6</td>\n",
       "      <td>2</td>\n",
       "      <td>6</td>\n",
       "      <td>10</td>\n",
       "      <td>3</td>\n",
       "      <td>7</td>\n",
       "      <td>3</td>\n",
       "      <td>7</td>\n",
       "      <td>3</td>\n",
       "      <td>9</td>\n",
       "    </tr>\n",
       "    <tr>\n",
       "      <th>3</th>\n",
       "      <td>N</td>\n",
       "      <td>7</td>\n",
       "      <td>11</td>\n",
       "      <td>6</td>\n",
       "      <td>6</td>\n",
       "      <td>3</td>\n",
       "      <td>5</td>\n",
       "      <td>9</td>\n",
       "      <td>4</td>\n",
       "      <td>6</td>\n",
       "      <td>4</td>\n",
       "      <td>4</td>\n",
       "      <td>10</td>\n",
       "      <td>6</td>\n",
       "      <td>10</td>\n",
       "      <td>2</td>\n",
       "      <td>8</td>\n",
       "    </tr>\n",
       "    <tr>\n",
       "      <th>4</th>\n",
       "      <td>G</td>\n",
       "      <td>2</td>\n",
       "      <td>1</td>\n",
       "      <td>3</td>\n",
       "      <td>1</td>\n",
       "      <td>1</td>\n",
       "      <td>8</td>\n",
       "      <td>6</td>\n",
       "      <td>6</td>\n",
       "      <td>6</td>\n",
       "      <td>6</td>\n",
       "      <td>5</td>\n",
       "      <td>9</td>\n",
       "      <td>1</td>\n",
       "      <td>7</td>\n",
       "      <td>5</td>\n",
       "      <td>10</td>\n",
       "    </tr>\n",
       "    <tr>\n",
       "      <th>...</th>\n",
       "      <td>...</td>\n",
       "      <td>...</td>\n",
       "      <td>...</td>\n",
       "      <td>...</td>\n",
       "      <td>...</td>\n",
       "      <td>...</td>\n",
       "      <td>...</td>\n",
       "      <td>...</td>\n",
       "      <td>...</td>\n",
       "      <td>...</td>\n",
       "      <td>...</td>\n",
       "      <td>...</td>\n",
       "      <td>...</td>\n",
       "      <td>...</td>\n",
       "      <td>...</td>\n",
       "      <td>...</td>\n",
       "      <td>...</td>\n",
       "    </tr>\n",
       "    <tr>\n",
       "      <th>19995</th>\n",
       "      <td>D</td>\n",
       "      <td>2</td>\n",
       "      <td>2</td>\n",
       "      <td>3</td>\n",
       "      <td>3</td>\n",
       "      <td>2</td>\n",
       "      <td>7</td>\n",
       "      <td>7</td>\n",
       "      <td>7</td>\n",
       "      <td>6</td>\n",
       "      <td>6</td>\n",
       "      <td>6</td>\n",
       "      <td>4</td>\n",
       "      <td>2</td>\n",
       "      <td>8</td>\n",
       "      <td>3</td>\n",
       "      <td>7</td>\n",
       "    </tr>\n",
       "    <tr>\n",
       "      <th>19996</th>\n",
       "      <td>C</td>\n",
       "      <td>7</td>\n",
       "      <td>10</td>\n",
       "      <td>8</td>\n",
       "      <td>8</td>\n",
       "      <td>4</td>\n",
       "      <td>4</td>\n",
       "      <td>8</td>\n",
       "      <td>6</td>\n",
       "      <td>9</td>\n",
       "      <td>12</td>\n",
       "      <td>9</td>\n",
       "      <td>13</td>\n",
       "      <td>2</td>\n",
       "      <td>9</td>\n",
       "      <td>3</td>\n",
       "      <td>7</td>\n",
       "    </tr>\n",
       "    <tr>\n",
       "      <th>19997</th>\n",
       "      <td>T</td>\n",
       "      <td>6</td>\n",
       "      <td>9</td>\n",
       "      <td>6</td>\n",
       "      <td>7</td>\n",
       "      <td>5</td>\n",
       "      <td>6</td>\n",
       "      <td>11</td>\n",
       "      <td>3</td>\n",
       "      <td>7</td>\n",
       "      <td>11</td>\n",
       "      <td>9</td>\n",
       "      <td>5</td>\n",
       "      <td>2</td>\n",
       "      <td>12</td>\n",
       "      <td>2</td>\n",
       "      <td>4</td>\n",
       "    </tr>\n",
       "    <tr>\n",
       "      <th>19998</th>\n",
       "      <td>S</td>\n",
       "      <td>2</td>\n",
       "      <td>3</td>\n",
       "      <td>4</td>\n",
       "      <td>2</td>\n",
       "      <td>1</td>\n",
       "      <td>8</td>\n",
       "      <td>7</td>\n",
       "      <td>2</td>\n",
       "      <td>6</td>\n",
       "      <td>10</td>\n",
       "      <td>6</td>\n",
       "      <td>8</td>\n",
       "      <td>1</td>\n",
       "      <td>9</td>\n",
       "      <td>5</td>\n",
       "      <td>8</td>\n",
       "    </tr>\n",
       "    <tr>\n",
       "      <th>19999</th>\n",
       "      <td>A</td>\n",
       "      <td>4</td>\n",
       "      <td>9</td>\n",
       "      <td>6</td>\n",
       "      <td>6</td>\n",
       "      <td>2</td>\n",
       "      <td>9</td>\n",
       "      <td>5</td>\n",
       "      <td>3</td>\n",
       "      <td>1</td>\n",
       "      <td>8</td>\n",
       "      <td>1</td>\n",
       "      <td>8</td>\n",
       "      <td>2</td>\n",
       "      <td>7</td>\n",
       "      <td>2</td>\n",
       "      <td>8</td>\n",
       "    </tr>\n",
       "  </tbody>\n",
       "</table>\n",
       "<p>20000 rows × 17 columns</p>\n",
       "</div>"
      ],
      "text/plain": [
       "      lettr  x-box  y-box  width  height  onpix  x-bar  y-bar  x2bar  y2bar  \\\n",
       "0         T      2      8      3       5      1      8     13      0      6   \n",
       "1         I      5     12      3       7      2     10      5      5      4   \n",
       "2         D      4     11      6       8      6     10      6      2      6   \n",
       "3         N      7     11      6       6      3      5      9      4      6   \n",
       "4         G      2      1      3       1      1      8      6      6      6   \n",
       "...     ...    ...    ...    ...     ...    ...    ...    ...    ...    ...   \n",
       "19995     D      2      2      3       3      2      7      7      7      6   \n",
       "19996     C      7     10      8       8      4      4      8      6      9   \n",
       "19997     T      6      9      6       7      5      6     11      3      7   \n",
       "19998     S      2      3      4       2      1      8      7      2      6   \n",
       "19999     A      4      9      6       6      2      9      5      3      1   \n",
       "\n",
       "       xybar  x2ybr  xy2br  x-ege  xegvy  y-ege  yegvx  \n",
       "0          6     10      8      0      8      0      8  \n",
       "1         13      3      9      2      8      4     10  \n",
       "2         10      3      7      3      7      3      9  \n",
       "3          4      4     10      6     10      2      8  \n",
       "4          6      5      9      1      7      5     10  \n",
       "...      ...    ...    ...    ...    ...    ...    ...  \n",
       "19995      6      6      4      2      8      3      7  \n",
       "19996     12      9     13      2      9      3      7  \n",
       "19997     11      9      5      2     12      2      4  \n",
       "19998     10      6      8      1      9      5      8  \n",
       "19999      8      1      8      2      7      2      8  \n",
       "\n",
       "[20000 rows x 17 columns]"
      ]
     },
     "execution_count": 129,
     "metadata": {},
     "output_type": "execute_result"
    }
   ],
   "source": [
    "df"
   ]
  },
  {
   "cell_type": "code",
   "execution_count": 130,
   "id": "807d8c26",
   "metadata": {},
   "outputs": [],
   "source": [
    "x = df.drop(\"lettr\", axis=1).values\n",
    "y = df[\"lettr\"].values"
   ]
  },
  {
   "cell_type": "code",
   "execution_count": 131,
   "id": "d43eaf80",
   "metadata": {},
   "outputs": [
    {
     "data": {
      "text/plain": [
       "(20000, 16)"
      ]
     },
     "execution_count": 131,
     "metadata": {},
     "output_type": "execute_result"
    }
   ],
   "source": [
    "x.shape"
   ]
  },
  {
   "cell_type": "code",
   "execution_count": 132,
   "id": "1a2fcc1f",
   "metadata": {},
   "outputs": [
    {
     "data": {
      "text/plain": [
       "(20000,)"
      ]
     },
     "execution_count": 132,
     "metadata": {},
     "output_type": "execute_result"
    }
   ],
   "source": [
    "y.shape"
   ]
  },
  {
   "cell_type": "code",
   "execution_count": 133,
   "id": "ddd4f45a",
   "metadata": {},
   "outputs": [
    {
     "data": {
      "text/plain": [
       "array(['A', 'B', 'C', 'D', 'E', 'F', 'G', 'H', 'I', 'J', 'K', 'L', 'M',\n",
       "       'N', 'O', 'P', 'Q', 'R', 'S', 'T', 'U', 'V', 'W', 'X', 'Y', 'Z'],\n",
       "      dtype=object)"
      ]
     },
     "execution_count": 133,
     "metadata": {},
     "output_type": "execute_result"
    }
   ],
   "source": [
    "np.unique(y)"
   ]
  },
  {
   "cell_type": "code",
   "execution_count": 134,
   "id": "aca3f459",
   "metadata": {},
   "outputs": [],
   "source": [
    "x_train, x_test, y_train, y_test = train_test_split(x, y, test_size=0.2)"
   ]
  },
  {
   "cell_type": "code",
   "execution_count": 135,
   "id": "e5b90ef1",
   "metadata": {},
   "outputs": [
    {
     "name": "stdout",
     "output_type": "stream",
     "text": [
      "Train Shape : (16000, 16)\n",
      "Test Shape : (4000, 16)\n",
      "y_train shape : (16000,)\n",
      "y_test shape : (4000,)\n"
     ]
    }
   ],
   "source": [
    "def shape():\n",
    "      print(\"Train Shape :\",x_train.shape)\n",
    "      print(\"Test Shape :\",x_test.shape)\n",
    "      print(\"y_train shape :\",y_train.shape)\n",
    "      print(\"y_test shape :\",y_test.shape)\n",
    "shape()"
   ]
  },
  {
   "cell_type": "code",
   "execution_count": 136,
   "id": "5d77079d",
   "metadata": {},
   "outputs": [
    {
     "data": {
      "text/plain": [
       "array([ 7,  8,  7,  6,  5,  7, 10,  3,  7, 10,  9,  5,  4, 11,  5,  5],\n",
       "      dtype=int64)"
      ]
     },
     "execution_count": 136,
     "metadata": {},
     "output_type": "execute_result"
    }
   ],
   "source": [
    "x_train[0]"
   ]
  },
  {
   "cell_type": "code",
   "execution_count": 137,
   "id": "a0f46bb6",
   "metadata": {},
   "outputs": [
    {
     "data": {
      "text/plain": [
       "'T'"
      ]
     },
     "execution_count": 137,
     "metadata": {},
     "output_type": "execute_result"
    }
   ],
   "source": [
    "y_train[0]"
   ]
  },
  {
   "cell_type": "code",
   "execution_count": 138,
   "id": "1070e27e",
   "metadata": {},
   "outputs": [],
   "source": [
    "class_names=['A', 'B', 'C', 'D', 'E', 'F', 'G', 'H', 'I', 'J', 'K', 'L', 'M', 'N', 'O', 'P', 'Q', 'R', 'S', 'T', 'U', 'V', 'W', 'X', 'Y', 'Z']"
   ]
  },
  {
   "cell_type": "code",
   "execution_count": 139,
   "id": "9d555ab9",
   "metadata": {},
   "outputs": [
    {
     "data": {
      "text/plain": [
       "array([ 3,  7,  3,  5,  2,  5,  7,  7,  2,  6,  5, 11,  3,  8,  2, 11],\n",
       "      dtype=int64)"
      ]
     },
     "execution_count": 139,
     "metadata": {},
     "output_type": "execute_result"
    }
   ],
   "source": [
    "x_test[10]"
   ]
  },
  {
   "cell_type": "code",
   "execution_count": 140,
   "id": "8a851564",
   "metadata": {},
   "outputs": [
    {
     "data": {
      "text/plain": [
       "'K'"
      ]
     },
     "execution_count": 140,
     "metadata": {},
     "output_type": "execute_result"
    }
   ],
   "source": [
    "y_test[10]"
   ]
  },
  {
   "cell_type": "markdown",
   "id": "2089663b",
   "metadata": {},
   "source": [
    "Preprocessing"
   ]
  },
  {
   "cell_type": "code",
   "execution_count": 141,
   "id": "698293f9",
   "metadata": {},
   "outputs": [],
   "source": [
    "x_train = x_train/255\n",
    "x_test = x_test/255"
   ]
  },
  {
   "cell_type": "code",
   "execution_count": 142,
   "id": "72a25cd4",
   "metadata": {},
   "outputs": [],
   "source": [
    "from sklearn.preprocessing import LabelEncoder"
   ]
  },
  {
   "cell_type": "code",
   "execution_count": 143,
   "id": "e8ec5f5e",
   "metadata": {},
   "outputs": [],
   "source": [
    "encoder = LabelEncoder()\n",
    "y_train = encoder.fit_transform(y_train)\n",
    "y_test = encoder.fit_transform(y_test)"
   ]
  },
  {
   "cell_type": "markdown",
   "id": "ff2b9212",
   "metadata": {},
   "source": [
    "Building our Model"
   ]
  },
  {
   "cell_type": "code",
   "execution_count": 144,
   "id": "5a0645f5",
   "metadata": {},
   "outputs": [],
   "source": [
    "from tensorflow.keras.models import Sequential\n",
    "from tensorflow.keras.layers import Dense, Dropout"
   ]
  },
  {
   "cell_type": "code",
   "execution_count": 145,
   "id": "10c37f7f",
   "metadata": {},
   "outputs": [
    {
     "name": "stdout",
     "output_type": "stream",
     "text": [
      "Model: \"sequential_4\"\n",
      "_________________________________________________________________\n",
      " Layer (type)                Output Shape              Param #   \n",
      "=================================================================\n",
      " dense_12 (Dense)            (None, 512)               8704      \n",
      "                                                                 \n",
      " dropout_8 (Dropout)         (None, 512)               0         \n",
      "                                                                 \n",
      " dense_13 (Dense)            (None, 256)               131328    \n",
      "                                                                 \n",
      " dropout_9 (Dropout)         (None, 256)               0         \n",
      "                                                                 \n",
      " dense_14 (Dense)            (None, 26)                6682      \n",
      "                                                                 \n",
      "=================================================================\n",
      "Total params: 146,714\n",
      "Trainable params: 146,714\n",
      "Non-trainable params: 0\n",
      "_________________________________________________________________\n"
     ]
    }
   ],
   "source": [
    "model=Sequential()\n",
    "model.add(Dense(512, activation='relu', input_shape=(16,)))\n",
    "model.add(Dropout(0.2))\n",
    "model.add(Dense(256, activation='relu'))\n",
    "model.add(Dropout(0.2))\n",
    "model.add(Dense(26, activation='softmax'))\n",
    "model.compile(optimizer='adam', loss='sparse_categorical_crossentropy', metrics=['accuracy'])\n",
    "model.summary()"
   ]
  },
  {
   "cell_type": "markdown",
   "id": "81e6e0e5",
   "metadata": {},
   "source": [
    "Training our Model"
   ]
  },
  {
   "cell_type": "code",
   "execution_count": 146,
   "id": "c2ef32fc",
   "metadata": {
    "scrolled": false
   },
   "outputs": [
    {
     "name": "stdout",
     "output_type": "stream",
     "text": [
      "Epoch 1/50\n",
      "125/125 [==============================] - 2s 9ms/step - loss: 3.1405 - accuracy: 0.1376 - val_loss: 2.7789 - val_accuracy: 0.3200\n",
      "Epoch 2/50\n",
      "125/125 [==============================] - 1s 10ms/step - loss: 2.3794 - accuracy: 0.3139 - val_loss: 2.0621 - val_accuracy: 0.3895\n",
      "Epoch 3/50\n",
      "125/125 [==============================] - 1s 10ms/step - loss: 1.9730 - accuracy: 0.3999 - val_loss: 1.8093 - val_accuracy: 0.4757\n",
      "Epoch 4/50\n",
      "125/125 [==============================] - 1s 8ms/step - loss: 1.7710 - accuracy: 0.4606 - val_loss: 1.6285 - val_accuracy: 0.5280\n",
      "Epoch 5/50\n",
      "125/125 [==============================] - 1s 8ms/step - loss: 1.6371 - accuracy: 0.4986 - val_loss: 1.5359 - val_accuracy: 0.5512\n",
      "Epoch 6/50\n",
      "125/125 [==============================] - 1s 8ms/step - loss: 1.5522 - accuracy: 0.5236 - val_loss: 1.4595 - val_accuracy: 0.5655\n",
      "Epoch 7/50\n",
      "125/125 [==============================] - 1s 9ms/step - loss: 1.4855 - accuracy: 0.5507 - val_loss: 1.3863 - val_accuracy: 0.5950\n",
      "Epoch 8/50\n",
      "125/125 [==============================] - 1s 9ms/step - loss: 1.4229 - accuracy: 0.5726 - val_loss: 1.3439 - val_accuracy: 0.6077\n",
      "Epoch 9/50\n",
      "125/125 [==============================] - 1s 9ms/step - loss: 1.3628 - accuracy: 0.5936 - val_loss: 1.2928 - val_accuracy: 0.6215\n",
      "Epoch 10/50\n",
      "125/125 [==============================] - 1s 8ms/step - loss: 1.3110 - accuracy: 0.6049 - val_loss: 1.2317 - val_accuracy: 0.6455\n",
      "Epoch 11/50\n",
      "125/125 [==============================] - 1s 11ms/step - loss: 1.2580 - accuracy: 0.6259 - val_loss: 1.2051 - val_accuracy: 0.6445\n",
      "Epoch 12/50\n",
      "125/125 [==============================] - 1s 10ms/step - loss: 1.2156 - accuracy: 0.6394 - val_loss: 1.1422 - val_accuracy: 0.6615\n",
      "Epoch 13/50\n",
      "125/125 [==============================] - 1s 12ms/step - loss: 1.1677 - accuracy: 0.6544 - val_loss: 1.1078 - val_accuracy: 0.6812\n",
      "Epoch 14/50\n",
      "125/125 [==============================] - 1s 12ms/step - loss: 1.1246 - accuracy: 0.6661 - val_loss: 1.0515 - val_accuracy: 0.7057\n",
      "Epoch 15/50\n",
      "125/125 [==============================] - 1s 10ms/step - loss: 1.0801 - accuracy: 0.6757 - val_loss: 1.0259 - val_accuracy: 0.7103\n",
      "Epoch 16/50\n",
      "125/125 [==============================] - 2s 12ms/step - loss: 1.0401 - accuracy: 0.6895 - val_loss: 0.9846 - val_accuracy: 0.7185\n",
      "Epoch 17/50\n",
      "125/125 [==============================] - 2s 18ms/step - loss: 1.0107 - accuracy: 0.6977 - val_loss: 0.9620 - val_accuracy: 0.7310\n",
      "Epoch 18/50\n",
      "125/125 [==============================] - 1s 10ms/step - loss: 0.9809 - accuracy: 0.7048 - val_loss: 0.9191 - val_accuracy: 0.7430\n",
      "Epoch 19/50\n",
      "125/125 [==============================] - 1s 9ms/step - loss: 0.9509 - accuracy: 0.7166 - val_loss: 0.8989 - val_accuracy: 0.7362\n",
      "Epoch 20/50\n",
      "125/125 [==============================] - 1s 8ms/step - loss: 0.9227 - accuracy: 0.7237 - val_loss: 0.8695 - val_accuracy: 0.7430\n",
      "Epoch 21/50\n",
      "125/125 [==============================] - 1s 9ms/step - loss: 0.9025 - accuracy: 0.7265 - val_loss: 0.8429 - val_accuracy: 0.7595\n",
      "Epoch 22/50\n",
      "125/125 [==============================] - 1s 11ms/step - loss: 0.8832 - accuracy: 0.7342 - val_loss: 0.8257 - val_accuracy: 0.7635\n",
      "Epoch 23/50\n",
      "125/125 [==============================] - 1s 8ms/step - loss: 0.8550 - accuracy: 0.7431 - val_loss: 0.8138 - val_accuracy: 0.7588\n",
      "Epoch 24/50\n",
      "125/125 [==============================] - 1s 8ms/step - loss: 0.8424 - accuracy: 0.7442 - val_loss: 0.7895 - val_accuracy: 0.7745\n",
      "Epoch 25/50\n",
      "125/125 [==============================] - 1s 8ms/step - loss: 0.8223 - accuracy: 0.7498 - val_loss: 0.7715 - val_accuracy: 0.7690\n",
      "Epoch 26/50\n",
      "125/125 [==============================] - 1s 9ms/step - loss: 0.8051 - accuracy: 0.7541 - val_loss: 0.7586 - val_accuracy: 0.7790\n",
      "Epoch 27/50\n",
      "125/125 [==============================] - 1s 12ms/step - loss: 0.7840 - accuracy: 0.7611 - val_loss: 0.7334 - val_accuracy: 0.7865\n",
      "Epoch 28/50\n",
      "125/125 [==============================] - 2s 12ms/step - loss: 0.7714 - accuracy: 0.7634 - val_loss: 0.7211 - val_accuracy: 0.7895\n",
      "Epoch 29/50\n",
      "125/125 [==============================] - 2s 13ms/step - loss: 0.7567 - accuracy: 0.7707 - val_loss: 0.7056 - val_accuracy: 0.7862\n",
      "Epoch 30/50\n",
      "125/125 [==============================] - 1s 11ms/step - loss: 0.7449 - accuracy: 0.7679 - val_loss: 0.6951 - val_accuracy: 0.7915\n",
      "Epoch 31/50\n",
      "125/125 [==============================] - 1s 11ms/step - loss: 0.7310 - accuracy: 0.7771 - val_loss: 0.6808 - val_accuracy: 0.8030\n",
      "Epoch 32/50\n",
      "125/125 [==============================] - 1s 12ms/step - loss: 0.7154 - accuracy: 0.7815 - val_loss: 0.6613 - val_accuracy: 0.8077\n",
      "Epoch 33/50\n",
      "125/125 [==============================] - 1s 11ms/step - loss: 0.7131 - accuracy: 0.7806 - val_loss: 0.6534 - val_accuracy: 0.8062\n",
      "Epoch 34/50\n",
      "125/125 [==============================] - 1s 11ms/step - loss: 0.6975 - accuracy: 0.7847 - val_loss: 0.6485 - val_accuracy: 0.8050\n",
      "Epoch 35/50\n",
      "125/125 [==============================] - 1s 10ms/step - loss: 0.6858 - accuracy: 0.7878 - val_loss: 0.6474 - val_accuracy: 0.8117\n",
      "Epoch 36/50\n",
      "125/125 [==============================] - 1s 10ms/step - loss: 0.6695 - accuracy: 0.7921 - val_loss: 0.6366 - val_accuracy: 0.8050\n",
      "Epoch 37/50\n",
      "125/125 [==============================] - 2s 18ms/step - loss: 0.6597 - accuracy: 0.7969 - val_loss: 0.6163 - val_accuracy: 0.8158\n",
      "Epoch 38/50\n",
      "125/125 [==============================] - 2s 14ms/step - loss: 0.6471 - accuracy: 0.8005 - val_loss: 0.6028 - val_accuracy: 0.8213\n",
      "Epoch 39/50\n",
      "125/125 [==============================] - 2s 15ms/step - loss: 0.6358 - accuracy: 0.8024 - val_loss: 0.6036 - val_accuracy: 0.8160\n",
      "Epoch 40/50\n",
      "125/125 [==============================] - 2s 15ms/step - loss: 0.6317 - accuracy: 0.8009 - val_loss: 0.5704 - val_accuracy: 0.8292\n",
      "Epoch 41/50\n",
      "125/125 [==============================] - 1s 12ms/step - loss: 0.6176 - accuracy: 0.8100 - val_loss: 0.5628 - val_accuracy: 0.8345\n",
      "Epoch 42/50\n",
      "125/125 [==============================] - 1s 8ms/step - loss: 0.6128 - accuracy: 0.8126 - val_loss: 0.5568 - val_accuracy: 0.8315\n",
      "Epoch 43/50\n",
      "125/125 [==============================] - 1s 11ms/step - loss: 0.5959 - accuracy: 0.8153 - val_loss: 0.5499 - val_accuracy: 0.8340\n",
      "Epoch 44/50\n",
      "125/125 [==============================] - 1s 10ms/step - loss: 0.5873 - accuracy: 0.8156 - val_loss: 0.5428 - val_accuracy: 0.8338\n",
      "Epoch 45/50\n",
      "125/125 [==============================] - 1s 9ms/step - loss: 0.5856 - accuracy: 0.8190 - val_loss: 0.5228 - val_accuracy: 0.8425\n",
      "Epoch 46/50\n",
      "125/125 [==============================] - 1s 11ms/step - loss: 0.5731 - accuracy: 0.8192 - val_loss: 0.5127 - val_accuracy: 0.8443\n",
      "Epoch 47/50\n",
      "125/125 [==============================] - 1s 10ms/step - loss: 0.5553 - accuracy: 0.8252 - val_loss: 0.5084 - val_accuracy: 0.8505\n",
      "Epoch 48/50\n",
      "125/125 [==============================] - 1s 10ms/step - loss: 0.5561 - accuracy: 0.8240 - val_loss: 0.4960 - val_accuracy: 0.8528\n",
      "Epoch 49/50\n",
      "125/125 [==============================] - 1s 7ms/step - loss: 0.5460 - accuracy: 0.8283 - val_loss: 0.4918 - val_accuracy: 0.8520\n",
      "Epoch 50/50\n",
      "125/125 [==============================] - 1s 8ms/step - loss: 0.5385 - accuracy: 0.8300 - val_loss: 0.4860 - val_accuracy: 0.8558\n"
     ]
    },
    {
     "data": {
      "text/plain": [
       "<keras.callbacks.History at 0x154db5b69a0>"
      ]
     },
     "execution_count": 146,
     "metadata": {},
     "output_type": "execute_result"
    }
   ],
   "source": [
    "model.fit(x_train, y_train, epochs=50, batch_size=128, verbose=1, validation_data=(x_test, y_test))"
   ]
  },
  {
   "cell_type": "markdown",
   "id": "cb34fc5c",
   "metadata": {},
   "source": [
    "Testing our Model"
   ]
  },
  {
   "cell_type": "code",
   "execution_count": 147,
   "id": "4de1825f",
   "metadata": {},
   "outputs": [
    {
     "name": "stdout",
     "output_type": "stream",
     "text": [
      "125/125 [==============================] - 0s 2ms/step\n"
     ]
    }
   ],
   "source": [
    " predictions = model.predict(x_test)"
   ]
  },
  {
   "cell_type": "code",
   "execution_count": 148,
   "id": "ba0ccffb",
   "metadata": {},
   "outputs": [
    {
     "name": "stdout",
     "output_type": "stream",
     "text": [
      "[2.82419956e-06 3.09114297e-11 8.58481682e-04 1.52923052e-09\n",
      " 1.75701853e-08 6.90554991e-09 2.59319018e-03 2.73245550e-03\n",
      " 1.89313641e-06 6.92704276e-08 9.91127431e-01 2.80531793e-04\n",
      " 1.50894982e-06 1.11913309e-04 1.95911690e-03 4.95337504e-09\n",
      " 1.19699944e-04 1.13634174e-04 4.14209552e-07 1.65963798e-09\n",
      " 1.98035650e-06 1.63241438e-07 1.56543487e-10 9.46799773e-05\n",
      " 1.75718503e-13 1.22214403e-14]\n",
      "Actual label : 10\n",
      "Predicted label : 10\n",
      "Class (A-Z) : K\n"
     ]
    }
   ],
   "source": [
    "index=10\n",
    "print(predictions[index])\n",
    "final_value=np.argmax(predictions[index])\n",
    "print(\"Actual label :\",y_test[index])\n",
    "print(\"Predicted label :\",final_value)\n",
    "print(\"Class (A-Z) :\",class_names[final_value])"
   ]
  },
  {
   "cell_type": "markdown",
   "id": "f4c6dc6c",
   "metadata": {},
   "source": [
    "Evaluating our Model"
   ]
  },
  {
   "cell_type": "code",
   "execution_count": 149,
   "id": "cdc1d5f3",
   "metadata": {},
   "outputs": [
    {
     "name": "stdout",
     "output_type": "stream",
     "text": [
      "125/125 [==============================] - 0s 3ms/step - loss: 0.4860 - accuracy: 0.8558\n",
      "Loss : 0.48596155643463135\n",
      "Accuracy (Test Data) : 85.5750024318695\n"
     ]
    }
   ],
   "source": [
    "loss, accuracy = model.evaluate(x_test, y_test)\n",
    "print(\"Loss :\",loss)\n",
    "print(\"Accuracy (Test Data) :\",accuracy*100)"
   ]
  }
 ],
 "metadata": {
  "kernelspec": {
   "display_name": "Python 3 (ipykernel)",
   "language": "python",
   "name": "python3"
  },
  "language_info": {
   "codemirror_mode": {
    "name": "ipython",
    "version": 3
   },
   "file_extension": ".py",
   "mimetype": "text/x-python",
   "name": "python",
   "nbconvert_exporter": "python",
   "pygments_lexer": "ipython3",
   "version": "3.9.13"
  }
 },
 "nbformat": 4,
 "nbformat_minor": 5
}

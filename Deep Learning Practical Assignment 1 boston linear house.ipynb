{
 "cells": [
  {
   "cell_type": "markdown",
   "metadata": {
    "id": "RsDSxpiKjBez"
   },
   "source": [
    "Name - Takte Yash Santosh / Roll No. - 4264 / Batch - B7"
   ]
  },
  {
   "cell_type": "markdown",
   "metadata": {
    "id": "2HEr4lvtkCHM"
   },
   "source": [
    "Importing Dataset & Libraries"
   ]
  },
  {
   "cell_type": "code",
   "execution_count": 64,
   "metadata": {
    "id": "_462ks-5WStJ"
   },
   "outputs": [],
   "source": [
    "import pandas as pd\n",
    "import numpy as np\n",
    "from sklearn.model_selection import train_test_split"
   ]
  },
  {
   "cell_type": "code",
   "execution_count": 65,
   "metadata": {
    "id": "8vRJBVbSWyKv"
   },
   "outputs": [],
   "source": [
    "df = pd.read_csv('D:\\DL Practical\\BostonHousingData.csv')"
   ]
  },
  {
   "cell_type": "code",
   "execution_count": 66,
   "metadata": {},
   "outputs": [
    {
     "data": {
      "text/html": [
       "<div>\n",
       "<style scoped>\n",
       "    .dataframe tbody tr th:only-of-type {\n",
       "        vertical-align: middle;\n",
       "    }\n",
       "\n",
       "    .dataframe tbody tr th {\n",
       "        vertical-align: top;\n",
       "    }\n",
       "\n",
       "    .dataframe thead th {\n",
       "        text-align: right;\n",
       "    }\n",
       "</style>\n",
       "<table border=\"1\" class=\"dataframe\">\n",
       "  <thead>\n",
       "    <tr style=\"text-align: right;\">\n",
       "      <th></th>\n",
       "      <th>CRIM</th>\n",
       "      <th>ZN</th>\n",
       "      <th>INDUS</th>\n",
       "      <th>CHAS</th>\n",
       "      <th>NOX</th>\n",
       "      <th>RM</th>\n",
       "      <th>AGE</th>\n",
       "      <th>DIS</th>\n",
       "      <th>RAD</th>\n",
       "      <th>TAX</th>\n",
       "      <th>PTRATIO</th>\n",
       "      <th>B</th>\n",
       "      <th>LSTAT</th>\n",
       "      <th>MEDV</th>\n",
       "    </tr>\n",
       "  </thead>\n",
       "  <tbody>\n",
       "    <tr>\n",
       "      <th>0</th>\n",
       "      <td>0.00632</td>\n",
       "      <td>18.0</td>\n",
       "      <td>2.31</td>\n",
       "      <td>0</td>\n",
       "      <td>0.538</td>\n",
       "      <td>6.575</td>\n",
       "      <td>65.2</td>\n",
       "      <td>4.0900</td>\n",
       "      <td>1</td>\n",
       "      <td>296</td>\n",
       "      <td>15.3</td>\n",
       "      <td>396.90</td>\n",
       "      <td>4.98</td>\n",
       "      <td>24.0</td>\n",
       "    </tr>\n",
       "    <tr>\n",
       "      <th>1</th>\n",
       "      <td>0.02731</td>\n",
       "      <td>0.0</td>\n",
       "      <td>7.07</td>\n",
       "      <td>0</td>\n",
       "      <td>0.469</td>\n",
       "      <td>6.421</td>\n",
       "      <td>78.9</td>\n",
       "      <td>4.9671</td>\n",
       "      <td>2</td>\n",
       "      <td>242</td>\n",
       "      <td>17.8</td>\n",
       "      <td>396.90</td>\n",
       "      <td>9.14</td>\n",
       "      <td>21.6</td>\n",
       "    </tr>\n",
       "    <tr>\n",
       "      <th>2</th>\n",
       "      <td>0.02729</td>\n",
       "      <td>0.0</td>\n",
       "      <td>7.07</td>\n",
       "      <td>0</td>\n",
       "      <td>0.469</td>\n",
       "      <td>7.185</td>\n",
       "      <td>61.1</td>\n",
       "      <td>4.9671</td>\n",
       "      <td>2</td>\n",
       "      <td>242</td>\n",
       "      <td>17.8</td>\n",
       "      <td>392.83</td>\n",
       "      <td>4.03</td>\n",
       "      <td>34.7</td>\n",
       "    </tr>\n",
       "    <tr>\n",
       "      <th>3</th>\n",
       "      <td>0.03237</td>\n",
       "      <td>0.0</td>\n",
       "      <td>2.18</td>\n",
       "      <td>0</td>\n",
       "      <td>0.458</td>\n",
       "      <td>6.998</td>\n",
       "      <td>45.8</td>\n",
       "      <td>6.0622</td>\n",
       "      <td>3</td>\n",
       "      <td>222</td>\n",
       "      <td>18.7</td>\n",
       "      <td>394.63</td>\n",
       "      <td>2.94</td>\n",
       "      <td>33.4</td>\n",
       "    </tr>\n",
       "    <tr>\n",
       "      <th>4</th>\n",
       "      <td>0.06905</td>\n",
       "      <td>0.0</td>\n",
       "      <td>2.18</td>\n",
       "      <td>0</td>\n",
       "      <td>0.458</td>\n",
       "      <td>7.147</td>\n",
       "      <td>54.2</td>\n",
       "      <td>6.0622</td>\n",
       "      <td>3</td>\n",
       "      <td>222</td>\n",
       "      <td>18.7</td>\n",
       "      <td>396.90</td>\n",
       "      <td>5.33</td>\n",
       "      <td>36.2</td>\n",
       "    </tr>\n",
       "    <tr>\n",
       "      <th>...</th>\n",
       "      <td>...</td>\n",
       "      <td>...</td>\n",
       "      <td>...</td>\n",
       "      <td>...</td>\n",
       "      <td>...</td>\n",
       "      <td>...</td>\n",
       "      <td>...</td>\n",
       "      <td>...</td>\n",
       "      <td>...</td>\n",
       "      <td>...</td>\n",
       "      <td>...</td>\n",
       "      <td>...</td>\n",
       "      <td>...</td>\n",
       "      <td>...</td>\n",
       "    </tr>\n",
       "    <tr>\n",
       "      <th>501</th>\n",
       "      <td>0.06263</td>\n",
       "      <td>0.0</td>\n",
       "      <td>11.93</td>\n",
       "      <td>0</td>\n",
       "      <td>0.573</td>\n",
       "      <td>6.593</td>\n",
       "      <td>69.1</td>\n",
       "      <td>2.4786</td>\n",
       "      <td>1</td>\n",
       "      <td>273</td>\n",
       "      <td>21.0</td>\n",
       "      <td>391.99</td>\n",
       "      <td>9.67</td>\n",
       "      <td>22.4</td>\n",
       "    </tr>\n",
       "    <tr>\n",
       "      <th>502</th>\n",
       "      <td>0.04527</td>\n",
       "      <td>0.0</td>\n",
       "      <td>11.93</td>\n",
       "      <td>0</td>\n",
       "      <td>0.573</td>\n",
       "      <td>6.120</td>\n",
       "      <td>76.7</td>\n",
       "      <td>2.2875</td>\n",
       "      <td>1</td>\n",
       "      <td>273</td>\n",
       "      <td>21.0</td>\n",
       "      <td>396.90</td>\n",
       "      <td>9.08</td>\n",
       "      <td>20.6</td>\n",
       "    </tr>\n",
       "    <tr>\n",
       "      <th>503</th>\n",
       "      <td>0.06076</td>\n",
       "      <td>0.0</td>\n",
       "      <td>11.93</td>\n",
       "      <td>0</td>\n",
       "      <td>0.573</td>\n",
       "      <td>6.976</td>\n",
       "      <td>91.0</td>\n",
       "      <td>2.1675</td>\n",
       "      <td>1</td>\n",
       "      <td>273</td>\n",
       "      <td>21.0</td>\n",
       "      <td>396.90</td>\n",
       "      <td>5.64</td>\n",
       "      <td>23.9</td>\n",
       "    </tr>\n",
       "    <tr>\n",
       "      <th>504</th>\n",
       "      <td>0.10959</td>\n",
       "      <td>0.0</td>\n",
       "      <td>11.93</td>\n",
       "      <td>0</td>\n",
       "      <td>0.573</td>\n",
       "      <td>6.794</td>\n",
       "      <td>89.3</td>\n",
       "      <td>2.3889</td>\n",
       "      <td>1</td>\n",
       "      <td>273</td>\n",
       "      <td>21.0</td>\n",
       "      <td>393.45</td>\n",
       "      <td>6.48</td>\n",
       "      <td>22.0</td>\n",
       "    </tr>\n",
       "    <tr>\n",
       "      <th>505</th>\n",
       "      <td>0.04741</td>\n",
       "      <td>0.0</td>\n",
       "      <td>11.93</td>\n",
       "      <td>0</td>\n",
       "      <td>0.573</td>\n",
       "      <td>6.030</td>\n",
       "      <td>80.8</td>\n",
       "      <td>2.5050</td>\n",
       "      <td>1</td>\n",
       "      <td>273</td>\n",
       "      <td>21.0</td>\n",
       "      <td>396.90</td>\n",
       "      <td>7.88</td>\n",
       "      <td>11.9</td>\n",
       "    </tr>\n",
       "  </tbody>\n",
       "</table>\n",
       "<p>506 rows × 14 columns</p>\n",
       "</div>"
      ],
      "text/plain": [
       "        CRIM    ZN  INDUS  CHAS    NOX     RM   AGE     DIS  RAD  TAX  \\\n",
       "0    0.00632  18.0   2.31     0  0.538  6.575  65.2  4.0900    1  296   \n",
       "1    0.02731   0.0   7.07     0  0.469  6.421  78.9  4.9671    2  242   \n",
       "2    0.02729   0.0   7.07     0  0.469  7.185  61.1  4.9671    2  242   \n",
       "3    0.03237   0.0   2.18     0  0.458  6.998  45.8  6.0622    3  222   \n",
       "4    0.06905   0.0   2.18     0  0.458  7.147  54.2  6.0622    3  222   \n",
       "..       ...   ...    ...   ...    ...    ...   ...     ...  ...  ...   \n",
       "501  0.06263   0.0  11.93     0  0.573  6.593  69.1  2.4786    1  273   \n",
       "502  0.04527   0.0  11.93     0  0.573  6.120  76.7  2.2875    1  273   \n",
       "503  0.06076   0.0  11.93     0  0.573  6.976  91.0  2.1675    1  273   \n",
       "504  0.10959   0.0  11.93     0  0.573  6.794  89.3  2.3889    1  273   \n",
       "505  0.04741   0.0  11.93     0  0.573  6.030  80.8  2.5050    1  273   \n",
       "\n",
       "     PTRATIO       B  LSTAT  MEDV  \n",
       "0       15.3  396.90   4.98  24.0  \n",
       "1       17.8  396.90   9.14  21.6  \n",
       "2       17.8  392.83   4.03  34.7  \n",
       "3       18.7  394.63   2.94  33.4  \n",
       "4       18.7  396.90   5.33  36.2  \n",
       "..       ...     ...    ...   ...  \n",
       "501     21.0  391.99   9.67  22.4  \n",
       "502     21.0  396.90   9.08  20.6  \n",
       "503     21.0  396.90   5.64  23.9  \n",
       "504     21.0  393.45   6.48  22.0  \n",
       "505     21.0  396.90   7.88  11.9  \n",
       "\n",
       "[506 rows x 14 columns]"
      ]
     },
     "execution_count": 66,
     "metadata": {},
     "output_type": "execute_result"
    }
   ],
   "source": [
    "df"
   ]
  },
  {
   "cell_type": "code",
   "execution_count": 67,
   "metadata": {},
   "outputs": [],
   "source": [
    "x = df.drop(\"MEDV\", axis=1).values\n",
    "y = df[\"MEDV\"].values"
   ]
  },
  {
   "cell_type": "code",
   "execution_count": 68,
   "metadata": {},
   "outputs": [
    {
     "data": {
      "text/plain": [
       "(506, 13)"
      ]
     },
     "execution_count": 68,
     "metadata": {},
     "output_type": "execute_result"
    }
   ],
   "source": [
    "x.shape"
   ]
  },
  {
   "cell_type": "code",
   "execution_count": 69,
   "metadata": {},
   "outputs": [
    {
     "data": {
      "text/plain": [
       "(506,)"
      ]
     },
     "execution_count": 69,
     "metadata": {},
     "output_type": "execute_result"
    }
   ],
   "source": [
    "y.shape"
   ]
  },
  {
   "cell_type": "code",
   "execution_count": 70,
   "metadata": {},
   "outputs": [],
   "source": [
    "x_train, x_test, y_train, y_test = train_test_split(x, y, test_size=0.2)"
   ]
  },
  {
   "cell_type": "code",
   "execution_count": 71,
   "metadata": {
    "colab": {
     "base_uri": "https://localhost:8080/"
    },
    "id": "Nu4LTrxbXHL8",
    "outputId": "43dbc8f7-a671-4301-f7f6-16b1e278089c"
   },
   "outputs": [
    {
     "name": "stdout",
     "output_type": "stream",
     "text": [
      "x_train Shape : (404, 13)\n",
      "x_test Shape : (102, 13)\n",
      "y_train shape : (404,)\n",
      "y_test shape : (102,)\n"
     ]
    }
   ],
   "source": [
    "def shape():\n",
    "   print(\"x_train Shape :\",x_train.shape)\n",
    "   print(\"x_test Shape :\",x_test.shape)\n",
    "   print(\"y_train shape :\",y_train.shape)\n",
    "   print(\"y_test shape :\",y_test.shape)\n",
    "shape()"
   ]
  },
  {
   "cell_type": "markdown",
   "metadata": {
    "id": "fi9RzHIwZOaS"
   },
   "source": [
    "Data Preprocessing"
   ]
  },
  {
   "cell_type": "code",
   "execution_count": 72,
   "metadata": {
    "id": "Y7KZ1-slY9E2"
   },
   "outputs": [],
   "source": [
    "mean=x_train.mean(axis=0)\n",
    "std=x_train.std(axis=0)\n",
    "\n",
    "x_train=(x_train-mean)/std\n",
    "x_test=(x_test-mean)/std"
   ]
  },
  {
   "cell_type": "code",
   "execution_count": 76,
   "metadata": {
    "colab": {
     "base_uri": "https://localhost:8080/"
    },
    "id": "B5DRDH0sZcfy",
    "outputId": "11f2959c-728a-48d8-e33f-3293870bd91d"
   },
   "outputs": [
    {
     "data": {
      "text/plain": [
       "array([-0.41806237, -0.50156705, -0.76370333, -0.25683275, -0.47105102,\n",
       "       -0.47810275,  0.00600064, -0.21826774, -0.53353005, -0.79042967,\n",
       "        0.32551634,  0.44829015, -0.42781533])"
      ]
     },
     "execution_count": 76,
     "metadata": {},
     "output_type": "execute_result"
    }
   ],
   "source": [
    "x_train[0]"
   ]
  },
  {
   "cell_type": "code",
   "execution_count": 77,
   "metadata": {},
   "outputs": [
    {
     "data": {
      "text/plain": [
       "18.9"
      ]
     },
     "execution_count": 77,
     "metadata": {},
     "output_type": "execute_result"
    }
   ],
   "source": [
    "y_train[0]"
   ]
  },
  {
   "cell_type": "markdown",
   "metadata": {
    "id": "a-_ll8Qzj7kz"
   },
   "source": [
    "Building our Model"
   ]
  },
  {
   "cell_type": "code",
   "execution_count": 78,
   "metadata": {
    "id": "I-Po-clgZ33Q"
   },
   "outputs": [],
   "source": [
    "from tensorflow.keras.models import Sequential\n",
    "from tensorflow.keras.layers import Dense"
   ]
  },
  {
   "cell_type": "code",
   "execution_count": 79,
   "metadata": {},
   "outputs": [
    {
     "name": "stdout",
     "output_type": "stream",
     "text": [
      "Model: \"sequential_3\"\n",
      "_________________________________________________________________\n",
      " Layer (type)                Output Shape              Param #   \n",
      "=================================================================\n",
      " dense_9 (Dense)             (None, 128)               1792      \n",
      "                                                                 \n",
      " dense_10 (Dense)            (None, 64)                8256      \n",
      "                                                                 \n",
      " dense_11 (Dense)            (None, 1)                 65        \n",
      "                                                                 \n",
      "=================================================================\n",
      "Total params: 10,113\n",
      "Trainable params: 10,113\n",
      "Non-trainable params: 0\n",
      "_________________________________________________________________\n"
     ]
    }
   ],
   "source": [
    "model=Sequential()\n",
    "model.add(Dense(128,activation='relu',input_shape=(x_train[0].shape))) \n",
    "model.add(Dense(64,activation='relu'))\n",
    "model.add(Dense(1,activation='linear')) \n",
    "model.compile(optimizer='adam', loss='mse', metrics=['mae']) \n",
    "model.summary()"
   ]
  },
  {
   "cell_type": "markdown",
   "metadata": {
    "id": "Tqur_yyXjvER"
   },
   "source": [
    "Training our Model"
   ]
  },
  {
   "cell_type": "code",
   "execution_count": 80,
   "metadata": {
    "colab": {
     "base_uri": "https://localhost:8080/"
    },
    "id": "z_O9CtoeehPo",
    "outputId": "30785350-dd4d-4786-afe9-93785a3bd9e6"
   },
   "outputs": [
    {
     "name": "stdout",
     "output_type": "stream",
     "text": [
      "Epoch 1/100\n",
      "404/404 [==============================] - 2s 2ms/step - loss: 122.7514 - mae: 7.8024 - val_loss: 18.8983 - val_mae: 3.2053\n",
      "Epoch 2/100\n",
      "404/404 [==============================] - 1s 2ms/step - loss: 20.5720 - mae: 3.0962 - val_loss: 14.2718 - val_mae: 2.8681\n",
      "Epoch 3/100\n",
      "404/404 [==============================] - 1s 2ms/step - loss: 17.1919 - mae: 2.9065 - val_loss: 13.6511 - val_mae: 2.7763\n",
      "Epoch 4/100\n",
      "404/404 [==============================] - 1s 2ms/step - loss: 14.8424 - mae: 2.6261 - val_loss: 14.0540 - val_mae: 2.7540\n",
      "Epoch 5/100\n",
      "404/404 [==============================] - 1s 2ms/step - loss: 14.4971 - mae: 2.6557 - val_loss: 10.0695 - val_mae: 2.3094\n",
      "Epoch 6/100\n",
      "404/404 [==============================] - 1s 2ms/step - loss: 12.5962 - mae: 2.4777 - val_loss: 11.6453 - val_mae: 2.5423\n",
      "Epoch 7/100\n",
      "404/404 [==============================] - 1s 2ms/step - loss: 12.9367 - mae: 2.4549 - val_loss: 10.0990 - val_mae: 2.3056\n",
      "Epoch 8/100\n",
      "404/404 [==============================] - 1s 2ms/step - loss: 11.7447 - mae: 2.3959 - val_loss: 9.0170 - val_mae: 2.3507\n",
      "Epoch 9/100\n",
      "404/404 [==============================] - 1s 2ms/step - loss: 11.3679 - mae: 2.4240 - val_loss: 9.5588 - val_mae: 2.2564\n",
      "Epoch 10/100\n",
      "404/404 [==============================] - 1s 2ms/step - loss: 10.8914 - mae: 2.3683 - val_loss: 10.2646 - val_mae: 2.4917\n",
      "Epoch 11/100\n",
      "404/404 [==============================] - 1s 2ms/step - loss: 10.1724 - mae: 2.3232 - val_loss: 11.0658 - val_mae: 2.3995\n",
      "Epoch 12/100\n",
      "404/404 [==============================] - 1s 2ms/step - loss: 9.9657 - mae: 2.2338 - val_loss: 9.0501 - val_mae: 2.4146\n",
      "Epoch 13/100\n",
      "404/404 [==============================] - 1s 2ms/step - loss: 10.1195 - mae: 2.2879 - val_loss: 9.5007 - val_mae: 2.2463\n",
      "Epoch 14/100\n",
      "404/404 [==============================] - 1s 2ms/step - loss: 9.9409 - mae: 2.2706 - val_loss: 8.6730 - val_mae: 2.2380\n",
      "Epoch 15/100\n",
      "404/404 [==============================] - 1s 2ms/step - loss: 8.8228 - mae: 2.1003 - val_loss: 9.7525 - val_mae: 2.3487\n",
      "Epoch 16/100\n",
      "404/404 [==============================] - 1s 2ms/step - loss: 8.6597 - mae: 2.1386 - val_loss: 8.6737 - val_mae: 2.1562\n",
      "Epoch 17/100\n",
      "404/404 [==============================] - 1s 2ms/step - loss: 8.8402 - mae: 2.1490 - val_loss: 8.9486 - val_mae: 2.3652\n",
      "Epoch 18/100\n",
      "404/404 [==============================] - 1s 2ms/step - loss: 8.1009 - mae: 2.0873 - val_loss: 6.9322 - val_mae: 1.9848\n",
      "Epoch 19/100\n",
      "404/404 [==============================] - 1s 2ms/step - loss: 8.8403 - mae: 2.1454 - val_loss: 11.6595 - val_mae: 2.7453\n",
      "Epoch 20/100\n",
      "404/404 [==============================] - 1s 2ms/step - loss: 7.8556 - mae: 2.0820 - val_loss: 7.8804 - val_mae: 2.1459\n",
      "Epoch 21/100\n",
      "404/404 [==============================] - 1s 2ms/step - loss: 7.4412 - mae: 1.9469 - val_loss: 7.3990 - val_mae: 1.9677\n",
      "Epoch 22/100\n",
      "404/404 [==============================] - 1s 2ms/step - loss: 7.0529 - mae: 1.9630 - val_loss: 8.2771 - val_mae: 2.2583\n",
      "Epoch 23/100\n",
      "404/404 [==============================] - 1s 2ms/step - loss: 6.8204 - mae: 1.9124 - val_loss: 7.6218 - val_mae: 2.0653\n",
      "Epoch 24/100\n",
      "404/404 [==============================] - 1s 2ms/step - loss: 7.1741 - mae: 1.9978 - val_loss: 9.6626 - val_mae: 2.3492\n",
      "Epoch 25/100\n",
      "404/404 [==============================] - 1s 2ms/step - loss: 6.9984 - mae: 1.9229 - val_loss: 7.7421 - val_mae: 2.0834\n",
      "Epoch 26/100\n",
      "404/404 [==============================] - 1s 2ms/step - loss: 6.5634 - mae: 1.8941 - val_loss: 7.4726 - val_mae: 2.1338\n",
      "Epoch 27/100\n",
      "404/404 [==============================] - 1s 2ms/step - loss: 6.9132 - mae: 1.9152 - val_loss: 11.1166 - val_mae: 2.4918\n",
      "Epoch 28/100\n",
      "404/404 [==============================] - 1s 2ms/step - loss: 6.5505 - mae: 1.8701 - val_loss: 7.4778 - val_mae: 2.0639\n",
      "Epoch 29/100\n",
      "404/404 [==============================] - 1s 2ms/step - loss: 6.1217 - mae: 1.8127 - val_loss: 6.7181 - val_mae: 2.0006\n",
      "Epoch 30/100\n",
      "404/404 [==============================] - 1s 2ms/step - loss: 6.4757 - mae: 1.9208 - val_loss: 8.2838 - val_mae: 2.2482\n",
      "Epoch 31/100\n",
      "404/404 [==============================] - 1s 2ms/step - loss: 6.0748 - mae: 1.7736 - val_loss: 8.5714 - val_mae: 2.2959\n",
      "Epoch 32/100\n",
      "404/404 [==============================] - 1s 3ms/step - loss: 5.7130 - mae: 1.7284 - val_loss: 8.3215 - val_mae: 2.0364\n",
      "Epoch 33/100\n",
      "404/404 [==============================] - 1s 2ms/step - loss: 5.7975 - mae: 1.8326 - val_loss: 7.5580 - val_mae: 2.1304\n",
      "Epoch 34/100\n",
      "404/404 [==============================] - 1s 2ms/step - loss: 5.6768 - mae: 1.7565 - val_loss: 7.1233 - val_mae: 2.0700\n",
      "Epoch 35/100\n",
      "404/404 [==============================] - 1s 2ms/step - loss: 5.3299 - mae: 1.7184 - val_loss: 7.2935 - val_mae: 2.0338\n",
      "Epoch 36/100\n",
      "404/404 [==============================] - 1s 2ms/step - loss: 5.7728 - mae: 1.8134 - val_loss: 8.1987 - val_mae: 2.1687\n",
      "Epoch 37/100\n",
      "404/404 [==============================] - 1s 2ms/step - loss: 5.1892 - mae: 1.6861 - val_loss: 7.7175 - val_mae: 2.0636\n",
      "Epoch 38/100\n",
      "404/404 [==============================] - 1s 2ms/step - loss: 4.7822 - mae: 1.6326 - val_loss: 8.0454 - val_mae: 2.1404\n",
      "Epoch 39/100\n",
      "404/404 [==============================] - 1s 3ms/step - loss: 5.1292 - mae: 1.6347 - val_loss: 7.0536 - val_mae: 1.9274\n",
      "Epoch 40/100\n",
      "404/404 [==============================] - 1s 2ms/step - loss: 4.8543 - mae: 1.6360 - val_loss: 10.1126 - val_mae: 2.1864\n",
      "Epoch 41/100\n",
      "404/404 [==============================] - 1s 2ms/step - loss: 4.7250 - mae: 1.6366 - val_loss: 9.2308 - val_mae: 2.1742\n",
      "Epoch 42/100\n",
      "404/404 [==============================] - 1s 2ms/step - loss: 4.4224 - mae: 1.5896 - val_loss: 7.1169 - val_mae: 1.9416\n",
      "Epoch 43/100\n",
      "404/404 [==============================] - 1s 2ms/step - loss: 4.5178 - mae: 1.6147 - val_loss: 6.9689 - val_mae: 1.9456\n",
      "Epoch 44/100\n",
      "404/404 [==============================] - 1s 2ms/step - loss: 4.1405 - mae: 1.5204 - val_loss: 7.5730 - val_mae: 2.0373\n",
      "Epoch 45/100\n",
      "404/404 [==============================] - 1s 2ms/step - loss: 4.6359 - mae: 1.6717 - val_loss: 9.4077 - val_mae: 2.0370\n",
      "Epoch 46/100\n",
      "404/404 [==============================] - 1s 2ms/step - loss: 4.5242 - mae: 1.6365 - val_loss: 11.0532 - val_mae: 2.5320\n",
      "Epoch 47/100\n",
      "404/404 [==============================] - 1s 2ms/step - loss: 4.6404 - mae: 1.6174 - val_loss: 6.9241 - val_mae: 1.9694\n",
      "Epoch 48/100\n",
      "404/404 [==============================] - 1s 2ms/step - loss: 4.1196 - mae: 1.5094 - val_loss: 7.3821 - val_mae: 1.9150\n",
      "Epoch 49/100\n",
      "404/404 [==============================] - 1s 2ms/step - loss: 4.0190 - mae: 1.4781 - val_loss: 9.3261 - val_mae: 2.2589\n",
      "Epoch 50/100\n",
      "404/404 [==============================] - 1s 2ms/step - loss: 3.9047 - mae: 1.4925 - val_loss: 12.1854 - val_mae: 2.6621\n",
      "Epoch 51/100\n",
      "404/404 [==============================] - 1s 2ms/step - loss: 3.7529 - mae: 1.4609 - val_loss: 8.1296 - val_mae: 2.1177\n",
      "Epoch 52/100\n",
      "404/404 [==============================] - 1s 2ms/step - loss: 3.7580 - mae: 1.4777 - val_loss: 6.6428 - val_mae: 1.9362\n",
      "Epoch 53/100\n",
      "404/404 [==============================] - 1s 2ms/step - loss: 3.6003 - mae: 1.4320 - val_loss: 7.0106 - val_mae: 1.9055\n",
      "Epoch 54/100\n",
      "404/404 [==============================] - 1s 2ms/step - loss: 3.6284 - mae: 1.4497 - val_loss: 9.0336 - val_mae: 2.2230\n",
      "Epoch 55/100\n",
      "404/404 [==============================] - 1s 2ms/step - loss: 3.2737 - mae: 1.3521 - val_loss: 9.1390 - val_mae: 2.1304\n",
      "Epoch 56/100\n",
      "404/404 [==============================] - 1s 2ms/step - loss: 3.7795 - mae: 1.4707 - val_loss: 7.4339 - val_mae: 2.0537\n",
      "Epoch 57/100\n",
      "404/404 [==============================] - 1s 2ms/step - loss: 3.4772 - mae: 1.4111 - val_loss: 6.8302 - val_mae: 1.9363\n",
      "Epoch 58/100\n",
      "404/404 [==============================] - 1s 2ms/step - loss: 3.2055 - mae: 1.3511 - val_loss: 16.6738 - val_mae: 3.0904\n",
      "Epoch 59/100\n",
      "404/404 [==============================] - 1s 2ms/step - loss: 4.3952 - mae: 1.5588 - val_loss: 11.2270 - val_mae: 2.4112\n",
      "Epoch 60/100\n",
      "404/404 [==============================] - 1s 2ms/step - loss: 3.3435 - mae: 1.3791 - val_loss: 9.4940 - val_mae: 2.1624\n",
      "Epoch 61/100\n",
      "404/404 [==============================] - 1s 2ms/step - loss: 3.1103 - mae: 1.3210 - val_loss: 6.3960 - val_mae: 1.8606\n",
      "Epoch 62/100\n",
      "404/404 [==============================] - 1s 2ms/step - loss: 3.0923 - mae: 1.3436 - val_loss: 8.5034 - val_mae: 2.1727\n",
      "Epoch 63/100\n",
      "404/404 [==============================] - 1s 2ms/step - loss: 3.2414 - mae: 1.3262 - val_loss: 9.0952 - val_mae: 2.0883\n",
      "Epoch 64/100\n",
      "404/404 [==============================] - 1s 2ms/step - loss: 3.4099 - mae: 1.3948 - val_loss: 10.8434 - val_mae: 2.2867\n",
      "Epoch 65/100\n",
      "404/404 [==============================] - 1s 2ms/step - loss: 3.6054 - mae: 1.3899 - val_loss: 7.3336 - val_mae: 1.9164\n",
      "Epoch 66/100\n",
      "404/404 [==============================] - 1s 2ms/step - loss: 3.0011 - mae: 1.3181 - val_loss: 7.6100 - val_mae: 2.0637\n",
      "Epoch 67/100\n",
      "404/404 [==============================] - 1s 2ms/step - loss: 3.0930 - mae: 1.2935 - val_loss: 9.7658 - val_mae: 2.2539\n",
      "Epoch 68/100\n",
      "404/404 [==============================] - 1s 2ms/step - loss: 2.8484 - mae: 1.2830 - val_loss: 6.7758 - val_mae: 1.8566\n",
      "Epoch 69/100\n",
      "404/404 [==============================] - 1s 2ms/step - loss: 2.5743 - mae: 1.2306 - val_loss: 7.3128 - val_mae: 2.0353\n",
      "Epoch 70/100\n",
      "404/404 [==============================] - 1s 2ms/step - loss: 2.9784 - mae: 1.3139 - val_loss: 8.1831 - val_mae: 2.0943\n",
      "Epoch 71/100\n",
      "404/404 [==============================] - 1s 2ms/step - loss: 2.9735 - mae: 1.3460 - val_loss: 9.7729 - val_mae: 2.2778\n",
      "Epoch 72/100\n",
      "404/404 [==============================] - 1s 2ms/step - loss: 2.7244 - mae: 1.2531 - val_loss: 7.7489 - val_mae: 1.9240\n",
      "Epoch 73/100\n",
      "404/404 [==============================] - 1s 2ms/step - loss: 2.4394 - mae: 1.2029 - val_loss: 8.6421 - val_mae: 1.9805\n",
      "Epoch 74/100\n",
      "404/404 [==============================] - 1s 2ms/step - loss: 2.5418 - mae: 1.1975 - val_loss: 9.0166 - val_mae: 2.1990\n",
      "Epoch 75/100\n",
      "404/404 [==============================] - 1s 2ms/step - loss: 2.5346 - mae: 1.2040 - val_loss: 11.2391 - val_mae: 2.4369\n",
      "Epoch 76/100\n",
      "404/404 [==============================] - 1s 2ms/step - loss: 3.1394 - mae: 1.3106 - val_loss: 7.8039 - val_mae: 1.8776\n",
      "Epoch 77/100\n",
      "404/404 [==============================] - 1s 2ms/step - loss: 2.4538 - mae: 1.2166 - val_loss: 7.2163 - val_mae: 1.9423\n",
      "Epoch 78/100\n",
      "404/404 [==============================] - 1s 2ms/step - loss: 2.3804 - mae: 1.1864 - val_loss: 6.7784 - val_mae: 1.9715\n",
      "Epoch 79/100\n",
      "404/404 [==============================] - 1s 2ms/step - loss: 2.5266 - mae: 1.1626 - val_loss: 9.3545 - val_mae: 2.0531\n",
      "Epoch 80/100\n",
      "404/404 [==============================] - 1s 2ms/step - loss: 2.6632 - mae: 1.2185 - val_loss: 7.1447 - val_mae: 2.0475\n",
      "Epoch 81/100\n",
      "404/404 [==============================] - 1s 2ms/step - loss: 2.3866 - mae: 1.1644 - val_loss: 8.8078 - val_mae: 2.2285\n",
      "Epoch 82/100\n",
      "404/404 [==============================] - 1s 2ms/step - loss: 1.8928 - mae: 1.0645 - val_loss: 8.2891 - val_mae: 2.0856\n",
      "Epoch 83/100\n",
      "404/404 [==============================] - 1s 2ms/step - loss: 2.1163 - mae: 1.1055 - val_loss: 7.7154 - val_mae: 2.0273\n",
      "Epoch 84/100\n",
      "404/404 [==============================] - 1s 2ms/step - loss: 1.9812 - mae: 1.0874 - val_loss: 7.7378 - val_mae: 1.9539\n",
      "Epoch 85/100\n",
      "404/404 [==============================] - 1s 2ms/step - loss: 2.1178 - mae: 1.1094 - val_loss: 8.9278 - val_mae: 2.0563\n",
      "Epoch 86/100\n",
      "404/404 [==============================] - 1s 2ms/step - loss: 2.1890 - mae: 1.1285 - val_loss: 8.5106 - val_mae: 2.1917\n",
      "Epoch 87/100\n",
      "404/404 [==============================] - 1s 2ms/step - loss: 2.5184 - mae: 1.2007 - val_loss: 6.4885 - val_mae: 1.8473\n",
      "Epoch 88/100\n",
      "404/404 [==============================] - 1s 2ms/step - loss: 2.4276 - mae: 1.1467 - val_loss: 6.9221 - val_mae: 1.9069\n",
      "Epoch 89/100\n",
      "404/404 [==============================] - 1s 2ms/step - loss: 1.9468 - mae: 1.0529 - val_loss: 6.8869 - val_mae: 1.9088\n",
      "Epoch 90/100\n",
      "404/404 [==============================] - 1s 2ms/step - loss: 2.2542 - mae: 1.1150 - val_loss: 6.6561 - val_mae: 1.8672\n",
      "Epoch 91/100\n",
      "404/404 [==============================] - 1s 2ms/step - loss: 2.1123 - mae: 1.0798 - val_loss: 8.9416 - val_mae: 2.1173\n",
      "Epoch 92/100\n",
      "404/404 [==============================] - 1s 2ms/step - loss: 2.6635 - mae: 1.1923 - val_loss: 8.1389 - val_mae: 2.1324\n",
      "Epoch 93/100\n",
      "404/404 [==============================] - 1s 2ms/step - loss: 2.4089 - mae: 1.1399 - val_loss: 8.7985 - val_mae: 2.1074\n",
      "Epoch 94/100\n",
      "404/404 [==============================] - 1s 2ms/step - loss: 1.8803 - mae: 1.0292 - val_loss: 7.0289 - val_mae: 1.9118\n",
      "Epoch 95/100\n",
      "404/404 [==============================] - 1s 2ms/step - loss: 1.7914 - mae: 1.0158 - val_loss: 6.8045 - val_mae: 1.9054\n",
      "Epoch 96/100\n",
      "404/404 [==============================] - 1s 2ms/step - loss: 2.0587 - mae: 1.0679 - val_loss: 6.6291 - val_mae: 1.9192\n",
      "Epoch 97/100\n",
      "404/404 [==============================] - 1s 2ms/step - loss: 1.7034 - mae: 0.9980 - val_loss: 6.5601 - val_mae: 1.9169\n",
      "Epoch 98/100\n",
      "404/404 [==============================] - 1s 2ms/step - loss: 1.9610 - mae: 1.0595 - val_loss: 9.0730 - val_mae: 2.3027\n",
      "Epoch 99/100\n",
      "404/404 [==============================] - 1s 2ms/step - loss: 2.0075 - mae: 1.0775 - val_loss: 8.3617 - val_mae: 2.2196\n",
      "Epoch 100/100\n",
      "404/404 [==============================] - 1s 2ms/step - loss: 2.2916 - mae: 1.1874 - val_loss: 6.8608 - val_mae: 1.8924\n"
     ]
    },
    {
     "data": {
      "text/plain": [
       "<keras.callbacks.History at 0x1b7b7c194c0>"
      ]
     },
     "execution_count": 80,
     "metadata": {},
     "output_type": "execute_result"
    }
   ],
   "source": [
    "model.fit(x_train, y_train, epochs=100, batch_size=1, verbose=1, validation_data=(x_test, y_test))"
   ]
  },
  {
   "cell_type": "code",
   "execution_count": 81,
   "metadata": {
    "colab": {
     "base_uri": "https://localhost:8080/"
    },
    "id": "BOhdg5jkgQZu",
    "outputId": "27517860-d35f-4e7a-99ae-f4c3100f931c"
   },
   "outputs": [
    {
     "data": {
      "text/plain": [
       "array([-0.42101827, -0.50156705, -1.13081973, -0.25683275, -0.55572682,\n",
       "        0.19758953,  0.20684755, -0.34272202, -0.87422469, -0.84336666,\n",
       "       -0.32505625,  0.41244772, -0.63500406])"
      ]
     },
     "execution_count": 81,
     "metadata": {},
     "output_type": "execute_result"
    }
   ],
   "source": [
    "x_test[8]"
   ]
  },
  {
   "cell_type": "markdown",
   "metadata": {
    "id": "Kheb-gVXkJSA"
   },
   "source": [
    "Testing our Model"
   ]
  },
  {
   "cell_type": "code",
   "execution_count": 84,
   "metadata": {
    "colab": {
     "base_uri": "https://localhost:8080/"
    },
    "id": "rUOyABkLgdV5",
    "outputId": "aeea986a-7dea-42cd-a009-52e5802b13ba"
   },
   "outputs": [
    {
     "name": "stdout",
     "output_type": "stream",
     "text": [
      "Actual Output : 22.0\n",
      "1/1 [==============================] - 0s 85ms/step\n",
      "Predicted Output : [[21.148806]]\n"
     ]
    }
   ],
   "source": [
    "test_input=[[-0.42101827, -0.50156705, -1.13081973, -0.25683275, -0.55572682,\n",
    "        0.19758953,  0.20684755, -0.34272202, -0.87422469, -0.84336666,\n",
    "       -0.32505625,  0.41244772, -0.63500406]]\n",
    "print(\"Actual Output :\",y_test[8])\n",
    "print(\"Predicted Output :\",model.predict(test_input))"
   ]
  },
  {
   "cell_type": "markdown",
   "metadata": {
    "id": "uAlJlJLklChV"
   },
   "source": [
    "Evaluating our Model"
   ]
  },
  {
   "cell_type": "code",
   "execution_count": 87,
   "metadata": {
    "colab": {
     "base_uri": "https://localhost:8080/"
    },
    "id": "oisx7k2ZkMT2",
    "outputId": "0add5f9c-be00-4663-88c1-30b558f9a3b9"
   },
   "outputs": [
    {
     "name": "stdout",
     "output_type": "stream",
     "text": [
      "4/4 [==============================] - 0s 0s/step - loss: 6.8608 - mae: 1.8924\n",
      "Mean squared error on test data : 6.860829830169678\n",
      "Mean absolute error on test data : 1.8923770189285278\n",
      "4/4 [==============================] - 0s 0s/step\n",
      "R2 Score : 0.9268583351666828\n"
     ]
    }
   ],
   "source": [
    "mse_nn,mae_nn=model.evaluate(x_test,y_test)\n",
    "print('Mean squared error on test data :',mse_nn)\n",
    "print('Mean absolute error on test data :',mae_nn)\n",
    "\n",
    "from sklearn.metrics import r2_score\n",
    "y_dl=model.predict(x_test)\n",
    "r2=r2_score(y_test,y_dl)\n",
    "print('R2 Score :',r2)"
   ]
  }
 ],
 "metadata": {
  "colab": {
   "provenance": []
  },
  "kernelspec": {
   "display_name": "Python 3 (ipykernel)",
   "language": "python",
   "name": "python3"
  },
  "language_info": {
   "codemirror_mode": {
    "name": "ipython",
    "version": 3
   },
   "file_extension": ".py",
   "mimetype": "text/x-python",
   "name": "python",
   "nbconvert_exporter": "python",
   "pygments_lexer": "ipython3",
   "version": "3.9.13"
  }
 },
 "nbformat": 4,
 "nbformat_minor": 1
}
